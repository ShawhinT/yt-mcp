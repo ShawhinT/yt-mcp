{
 "cells": [
  {
   "cell_type": "markdown",
   "id": "e4d4cdf5-4d15-4a7a-b6ae-ba7e1ce328c2",
   "metadata": {},
   "source": [
    "# YouTube MCP Server Example\n",
    "\n",
    "Code authored by: Shaw Talebi"
   ]
  },
  {
   "cell_type": "markdown",
   "id": "638c7a6d-1b77-4c56-aa47-d57f26d0cffe",
   "metadata": {},
   "source": [
    "### imports"
   ]
  },
  {
   "cell_type": "code",
   "execution_count": 1,
   "id": "ff66ff16-36a7-406d-ab17-7813b08d95d8",
   "metadata": {},
   "outputs": [],
   "source": [
    "from mcp.server.fastmcp import FastMCP\n",
    "from youtube_transcript_api import YouTubeTranscriptApi\n",
    "import csv\n",
    "import re"
   ]
  },
  {
   "cell_type": "markdown",
   "id": "35468744-3321-4450-a076-e8bd37a614f5",
   "metadata": {},
   "source": [
    "### 1) create server"
   ]
  },
  {
   "cell_type": "code",
   "execution_count": 2,
   "id": "cd63d8cf-cee0-4997-8fe9-d6e3ddc41545",
   "metadata": {},
   "outputs": [],
   "source": [
    "# Create an MCP server\n",
    "mcp = FastMCP(\"yt-shaw\")"
   ]
  },
  {
   "cell_type": "markdown",
   "id": "ec717ba7-b7e1-4ade-86ce-bd2e280b2316",
   "metadata": {},
   "source": [
    "### 2) add prompts"
   ]
  },
  {
   "cell_type": "code",
   "execution_count": 3,
   "id": "4a7a08d5-7ae8-4cb1-bc15-9ebc052975a1",
   "metadata": {},
   "outputs": [],
   "source": [
    "@mcp.prompt()\n",
    "def create_chapters_instructions() -> str:\n",
    "    \"\"\"Instructions for creating YouTube video chapters from a transcript.\"\"\"\n",
    "    with open(\"prompts/create_chapters.md\", \"r\") as file:\n",
    "        return file.read()"
   ]
  },
  {
   "cell_type": "code",
   "execution_count": 4,
   "id": "ef585d45-3944-48cb-a0bd-c3e149bddb92",
   "metadata": {},
   "outputs": [],
   "source": [
    "@mcp.prompt()\n",
    "def write_blog_instructions() -> str:\n",
    "    \"\"\"Instructions for writing a blog post based on a YouTube video transcript.\"\"\"\n",
    "    with open(\"prompts/write_blog.md\", \"r\") as file:\n",
    "        return file.read()"
   ]
  },
  {
   "cell_type": "markdown",
   "id": "84cebf20-1ff0-4689-a8fa-cbeca712fa48",
   "metadata": {},
   "source": [
    "### 3) add resources"
   ]
  },
  {
   "cell_type": "code",
   "execution_count": 5,
   "id": "7717861a-4301-4bb4-8495-957ac4ee17c8",
   "metadata": {},
   "outputs": [],
   "source": [
    "@mcp.resource(\"yt-library://\")\n",
    "def yt_library() -> str:\n",
    "    \"\"\"Return all the videos from Shaw Talebi's YouTube channel on AI and entrepreneurship as a Markdown table\"\"\"\n",
    "    \n",
    "    with open(\"resources/videos.csv\", \"r\") as file:\n",
    "        reader = csv.reader(file)\n",
    "        rows = list(reader)\n",
    "\n",
    "    if not rows:\n",
    "        return \"No data available.\"\n",
    "\n",
    "    header = \"| \" + \" | \".join(rows[0]) + \" |\"\n",
    "    separator = \"| \" + \" | \".join([\"---\"] * len(rows[0])) + \" |\"\n",
    "    body = \"\\n\".join([\"| \" + \" | \".join(row) + \" |\" for row in rows[1:]])\n",
    "\n",
    "    markdown_table = \"\\n\".join([header, separator, body])\n",
    "    return markdown_table"
   ]
  },
  {
   "cell_type": "markdown",
   "id": "e3de9ba9-9b9c-43e1-af0a-94c9823ad1b7",
   "metadata": {},
   "source": [
    "### 4) add tools"
   ]
  },
  {
   "cell_type": "code",
   "execution_count": 6,
   "id": "4b68b35c-9410-4c93-b688-0cbeeae65111",
   "metadata": {},
   "outputs": [],
   "source": [
    "@mcp.tool()\n",
    "async def fetch_youtube_transcript(url: str) -> str:\n",
    "    \"\"\"\n",
    "    Extract transcript with timestamps from a YouTube video URL and format it for LLM consumption\n",
    "    \n",
    "    Args:\n",
    "        url (str): YouTube video URL\n",
    "        \n",
    "    Returns:\n",
    "        str: Formatted transcript with timestamps, where each entry is on a new line\n",
    "             in the format: \"[MM:SS] Text\"\n",
    "    \"\"\"\n",
    "    # Extract video ID from URL\n",
    "    video_id_pattern = r'(?:v=|\\/)([0-9A-Za-z_-]{11}).*'\n",
    "    video_id_match = re.search(video_id_pattern, url)\n",
    "    \n",
    "    if not video_id_match:\n",
    "        raise ValueError(\"Invalid YouTube URL\")\n",
    "    \n",
    "    video_id = video_id_match.group(1)\n",
    "    \n",
    "    try:\n",
    "        transcript = YouTubeTranscriptApi.get_transcript(video_id)\n",
    "        \n",
    "        # Format each entry with timestamp and text\n",
    "        formatted_entries = []\n",
    "        for entry in transcript:\n",
    "            # Convert seconds to MM:SS format\n",
    "            minutes = int(entry['start'] // 60)\n",
    "            seconds = int(entry['start'] % 60)\n",
    "            timestamp = f\"[{minutes:02d}:{seconds:02d}]\"\n",
    "            \n",
    "            formatted_entry = f\"{timestamp} {entry['text']}\"\n",
    "            formatted_entries.append(formatted_entry)\n",
    "        \n",
    "        # Join all entries with newlines\n",
    "        return \"\\n\".join(formatted_entries)\n",
    "    \n",
    "    except Exception as e:\n",
    "        raise Exception(f\"Error fetching transcript: {str(e)}\")"
   ]
  },
  {
   "cell_type": "markdown",
   "id": "a5a334b2-d68f-4512-b272-2eea9db9aba4",
   "metadata": {},
   "source": [
    "### 5) run server"
   ]
  },
  {
   "cell_type": "code",
   "execution_count": 7,
   "id": "a7a752c5-5309-4142-a7cd-f2f9c45ceafb",
   "metadata": {},
   "outputs": [],
   "source": [
    "# see python script"
   ]
  },
  {
   "cell_type": "code",
   "execution_count": null,
   "id": "bd405ba5-7455-4fc5-b3fb-685a407c25f4",
   "metadata": {},
   "outputs": [],
   "source": []
  }
 ],
 "metadata": {
  "kernelspec": {
   "display_name": "Python 3 (ipykernel)",
   "language": "python",
   "name": "python3"
  },
  "language_info": {
   "codemirror_mode": {
    "name": "ipython",
    "version": 3
   },
   "file_extension": ".py",
   "mimetype": "text/x-python",
   "name": "python",
   "nbconvert_exporter": "python",
   "pygments_lexer": "ipython3",
   "version": "3.12.10"
  }
 },
 "nbformat": 4,
 "nbformat_minor": 5
}
